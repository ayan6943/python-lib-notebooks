{
  "nbformat": 4,
  "nbformat_minor": 0,
  "metadata": {
    "colab": {
      "provenance": [],
      "authorship_tag": "ABX9TyNWmtSsBsnIqY7oN0jhlzVW",
      "include_colab_link": true
    },
    "kernelspec": {
      "name": "python3",
      "display_name": "Python 3"
    },
    "language_info": {
      "name": "python"
    }
  },
  "cells": [
    {
      "cell_type": "markdown",
      "metadata": {
        "id": "view-in-github",
        "colab_type": "text"
      },
      "source": [
        "<a href=\"https://colab.research.google.com/github/ayan6943/python-lib-notebooks/blob/main/Unit_1_Numpy.ipynb\" target=\"_parent\"><img src=\"https://colab.research.google.com/assets/colab-badge.svg\" alt=\"Open In Colab\"/></a>"
      ]
    },
    {
      "cell_type": "code",
      "execution_count": null,
      "metadata": {
        "colab": {
          "base_uri": "https://localhost:8080/"
        },
        "id": "AY0m6peeKeyh",
        "outputId": "3f0dff56-a7a7-4fd2-89c5-52cf782fb5e6"
      },
      "outputs": [
        {
          "output_type": "stream",
          "name": "stdout",
          "text": [
            "[[23 28 29 30]\n",
            " [39 25 29 11]\n",
            " [22 18 24 19]]\n"
          ]
        }
      ],
      "source": [
        "import numpy as np\n",
        "arr2 = np.random.randint(10, 50, (3, 4))  # 3x4 array with values between 10 and 49\n",
        "print(arr2)\n"
      ]
    },
    {
      "cell_type": "code",
      "source": [
        "arr1 = np.random.randint(10, 50,10)  # 3x4 array with values between 10 and 49\n",
        "print(arr1)\n"
      ],
      "metadata": {
        "colab": {
          "base_uri": "https://localhost:8080/"
        },
        "id": "T4RgcljmMyQt",
        "outputId": "656bb5d2-1c39-4b51-cf80-0ae604103552"
      },
      "execution_count": null,
      "outputs": [
        {
          "output_type": "stream",
          "name": "stdout",
          "text": [
            "[22 17 29 12 14 17 49 16 28 16]\n"
          ]
        }
      ]
    },
    {
      "cell_type": "code",
      "source": [
        "#print(arr1[::2])\n",
        "print(arr2[1,2]) # indexing in matrix also starts with 0 only\n",
        "print(arr2[:,::3]) # Selecting only first and last columns"
      ],
      "metadata": {
        "colab": {
          "base_uri": "https://localhost:8080/"
        },
        "id": "itG8xXFhM3vb",
        "outputId": "f2991bc5-90d3-4b98-cc7d-926b2f7c539b"
      },
      "execution_count": null,
      "outputs": [
        {
          "output_type": "stream",
          "name": "stdout",
          "text": [
            "29\n",
            "[[23 30]\n",
            " [39 11]\n",
            " [22 19]]\n"
          ]
        }
      ]
    },
    {
      "cell_type": "markdown",
      "source": [
        "**Array Slicing: Accessing Subarrays**\n",
        "Just as we can use square brackets to access individual array elements, we can also use them to access subarrays with the slice notation, marked by the colon (:) character. The NumPy slicing syntax follows that of the standard Python list; to access a slice of an array x, use this:\n",
        "\n",
        "x[start:stop:step]\n",
        "If any of these are unspecified, they default to the values start=0, stop=<size of dimension>, step=1. Let's look at some examples of accessing subarrays in one dimension and in multiple dimensions."
      ],
      "metadata": {
        "id": "l4nlf1fXqkyL"
      }
    },
    {
      "cell_type": "code",
      "source": [
        "# Sub Array\n",
        "sub=arr2[1:,2:]\n",
        "print(sub) #Unlike Python list slices, NumPy array slices are returned as views rather than copies of the array data.\n",
        "#Despite the nice features of array views, it is sometimes useful to instead explicitly copy the data within an array or a subarray.\n",
        "#This can be most easily done with the copy method\n",
        "sub1=arr2[1:,2:].copy()\n",
        "print(sub1)\n",
        "sub1[1,1]=10\n",
        "print(sub1)\n",
        "sub[1,1]=15\n",
        "print(arr2)"
      ],
      "metadata": {
        "colab": {
          "base_uri": "https://localhost:8080/"
        },
        "id": "37AIODGvOHBe",
        "outputId": "aac1b5b4-5264-4ebc-fd09-8f8fdc09030e"
      },
      "execution_count": null,
      "outputs": [
        {
          "output_type": "stream",
          "name": "stdout",
          "text": [
            "[[29 11]\n",
            " [24 19]]\n",
            "[[29 11]\n",
            " [24 19]]\n",
            "[[29 11]\n",
            " [24 10]]\n",
            "[[23 28 29 30]\n",
            " [39 25 29 11]\n",
            " [22 18 24 15]]\n"
          ]
        }
      ]
    },
    {
      "cell_type": "code",
      "source": [
        "rearr=np.arange(10).reshape(2,5)\n",
        "print(rearr)\n",
        "# dimentions(x,y)   x*y=total elements"
      ],
      "metadata": {
        "colab": {
          "base_uri": "https://localhost:8080/"
        },
        "id": "l-eftuW7PBr1",
        "outputId": "43442ce2-3ba0-4275-dc6c-bb3e63d3f37b"
      },
      "execution_count": null,
      "outputs": [
        {
          "output_type": "stream",
          "name": "stdout",
          "text": [
            "[[0 1 2 3 4]\n",
            " [5 6 7 8 9]]\n"
          ]
        }
      ]
    },
    {
      "cell_type": "code",
      "source": [
        "vec=np.array([1,4,7,8,55,7,8,5,95,54,1])\n",
        "col_vector = vec[:, np.newaxis]\n",
        "print(col_vector.shape)  # (3, 1) → 2D column vector\n",
        "print(col_vector)\n"
      ],
      "metadata": {
        "colab": {
          "base_uri": "https://localhost:8080/"
        },
        "id": "0v_deUYORRVU",
        "outputId": "e78db9b2-78f6-42e3-af75-d8edd4940297"
      },
      "execution_count": null,
      "outputs": [
        {
          "output_type": "stream",
          "name": "stdout",
          "text": [
            "(11, 1)\n",
            "[[ 1]\n",
            " [ 4]\n",
            " [ 7]\n",
            " [ 8]\n",
            " [55]\n",
            " [ 7]\n",
            " [ 8]\n",
            " [ 5]\n",
            " [95]\n",
            " [54]\n",
            " [ 1]]\n"
          ]
        }
      ]
    },
    {
      "cell_type": "code",
      "source": [
        "# flatten 2D array to 1D\n",
        "array1 = np.array([[1, 3], [5, 7], [9, 11]])\n",
        "result1 = np.reshape(array1, -1)\n",
        "print(\"Flattened 2D array:\", result1)"
      ],
      "metadata": {
        "colab": {
          "base_uri": "https://localhost:8080/"
        },
        "id": "iqqUqeqoSBKH",
        "outputId": "7fba75a4-033c-4339-c744-431e40de8253"
      },
      "execution_count": null,
      "outputs": [
        {
          "output_type": "stream",
          "name": "stdout",
          "text": [
            "Flattened 2D array: [ 1  3  5  7  9 11]\n"
          ]
        }
      ]
    },
    {
      "cell_type": "markdown",
      "source": [
        "# **Universal Functions (Ufuncs)**"
      ],
      "metadata": {
        "id": "VxbfkK71S0WY"
      }
    },
    {
      "cell_type": "code",
      "source": [
        "#consists of standard +-*/**\n",
        "uarr=np.arange(10)\n",
        "print(uarr*1+5)\n"
      ],
      "metadata": {
        "colab": {
          "base_uri": "https://localhost:8080/"
        },
        "id": "1Dui9jb9S3uf",
        "outputId": "383e4d20-7107-4495-f04a-cc362135ef6e"
      },
      "execution_count": null,
      "outputs": [
        {
          "output_type": "stream",
          "name": "stdout",
          "text": [
            "[ 5  6  7  8  9 10 11 12 13 14]\n"
          ]
        }
      ]
    },
    {
      "cell_type": "markdown",
      "source": [
        "The following table lists the arithmetic operators implemented in NumPy:\n",
        "\n",
        "Operator\tEquivalent ufunc\tDescription\n",
        "+\tnp.add\tAddition (e.g., 1 + 1 = 2)\n",
        "-\tnp.subtract\tSubtraction (e.g., 3 - 2 = 1)\n",
        "-\tnp.negative\tUnary negation (e.g., -2)\n",
        "*\tnp.multiply\tMultiplication (e.g., 2 * 3 = 6)\n",
        "/\tnp.divide\tDivision (e.g., 3 / 2 = 1.5)\n",
        "//\tnp.floor_divide\tFloor division (e.g., 3 // 2 = 1)\n",
        "**np.power\tExponentiation (e.g., 2 ** 3 = 8)\n",
        "%\tnp.mod\tModulus/remainder (e.g., 9 % 4 = 1)\n"
      ],
      "metadata": {
        "id": "ag5_gkPGThay"
      }
    },
    {
      "cell_type": "code",
      "source": [
        "print(np.power(uarr,2))"
      ],
      "metadata": {
        "colab": {
          "base_uri": "https://localhost:8080/"
        },
        "id": "pitb9F0lTmKQ",
        "outputId": "90e0ae67-3e20-4299-dd8f-9c4d07a683f1"
      },
      "execution_count": null,
      "outputs": [
        {
          "output_type": "stream",
          "name": "stdout",
          "text": [
            "[ 0  1  4  9 16 25 36 49 64 81]\n"
          ]
        }
      ]
    },
    {
      "cell_type": "code",
      "source": [
        "x = np.array([3 - 4j, 4 - 3j, 2 + 0j, 0 + 1j])\n",
        "np.abs(x)"
      ],
      "metadata": {
        "colab": {
          "base_uri": "https://localhost:8080/"
        },
        "id": "m6cnggvoUBeb",
        "outputId": "290bbed8-0324-4760-b208-3abf4d62267c"
      },
      "execution_count": null,
      "outputs": [
        {
          "output_type": "execute_result",
          "data": {
            "text/plain": [
              "array([5., 5., 2., 1.])"
            ]
          },
          "metadata": {},
          "execution_count": 38
        }
      ]
    },
    {
      "cell_type": "code",
      "source": [
        "x = [1, 2, 3]\n",
        "print(\"x   =\", x)\n",
        "print(\"e^x =\", np.exp(x))\n",
        "print(\"2^x =\", np.exp2(x))\n",
        "print(\"3^x =\", np.power(3., x))"
      ],
      "metadata": {
        "colab": {
          "base_uri": "https://localhost:8080/"
        },
        "id": "yDo99QDOUQDC",
        "outputId": "9c8d18fc-d99d-4415-975f-1fad415f7a5c"
      },
      "execution_count": null,
      "outputs": [
        {
          "output_type": "stream",
          "name": "stdout",
          "text": [
            "x   = [1, 2, 3]\n",
            "e^x = [ 2.71828183  7.3890561  20.08553692]\n",
            "2^x = [2. 4. 8.]\n",
            "3^x = [ 3.  9. 27.]\n"
          ]
        }
      ]
    },
    {
      "cell_type": "markdown",
      "source": [
        "***Inverse Trigonometric Functions***"
      ],
      "metadata": {
        "id": "U2NKf_5rUcE4"
      }
    },
    {
      "cell_type": "code",
      "source": [
        "x = [-1, 0, 1]\n",
        "print(\"x         = \", x)\n",
        "print(\"arcsin(x) = \", np.arcsin(x))\n",
        "print(\"arccos(x) = \", np.arccos(x))\n",
        "print(\"arctan(x) = \", np.arctan(x))"
      ],
      "metadata": {
        "colab": {
          "base_uri": "https://localhost:8080/"
        },
        "id": "uu3E2kuOUZsc",
        "outputId": "10cef14e-da3d-496b-d15d-8a6b047bd602"
      },
      "execution_count": null,
      "outputs": [
        {
          "output_type": "stream",
          "name": "stdout",
          "text": [
            "x         =  [-1, 0, 1]\n",
            "arcsin(x) =  [-1.57079633  0.          1.57079633]\n",
            "arccos(x) =  [3.14159265 1.57079633 0.        ]\n",
            "arctan(x) =  [-0.78539816  0.          0.78539816]\n"
          ]
        }
      ]
    },
    {
      "cell_type": "markdown",
      "source": [
        "***Trigonometric functions***"
      ],
      "metadata": {
        "id": "56rkoVmjUiK-"
      }
    },
    {
      "cell_type": "code",
      "source": [
        "x=[np.pi/3,20,0]\n",
        "print(\"x         = \", x)\n",
        "print(\"sin(x)    = \", np.sin(x))\n",
        "print(\"cos(x)    = \", np.cos(x))\n",
        "print(\"tan(x)    = \", np.tan(x))"
      ],
      "metadata": {
        "colab": {
          "base_uri": "https://localhost:8080/"
        },
        "id": "_G2XhTFvUqio",
        "outputId": "99aa8456-c24b-41ac-e525-b0db9478bc0f"
      },
      "execution_count": null,
      "outputs": [
        {
          "output_type": "stream",
          "name": "stdout",
          "text": [
            "x         =  [1.0471975511965976, 20, 0]\n",
            "sin(x)    =  [0.8660254  0.91294525 0.        ]\n",
            "cos(x)    =  [0.5        0.40808206 1.        ]\n",
            "tan(x)    =  [1.73205081 2.23716094 0.        ]\n"
          ]
        }
      ]
    },
    {
      "cell_type": "markdown",
      "source": [
        "***Logarithms***"
      ],
      "metadata": {
        "id": "eARlgSwbUwun"
      }
    },
    {
      "cell_type": "code",
      "source": [
        "x = [1, 2, 4, 10]\n",
        "print(\"x        =\", x)\n",
        "print(\"ln(x)    =\", np.log(x))\n",
        "print(\"log2(x)  =\", np.log2(x))\n",
        "print(\"log10(x) =\", np.log10(x))"
      ],
      "metadata": {
        "colab": {
          "base_uri": "https://localhost:8080/"
        },
        "id": "rAI5eH1eU1rc",
        "outputId": "068f0e95-f966-43f8-929a-6591f69d9b49"
      },
      "execution_count": null,
      "outputs": [
        {
          "output_type": "stream",
          "name": "stdout",
          "text": [
            "x        = [1, 2, 4, 10]\n",
            "ln(x)    = [0.         0.69314718 1.38629436 2.30258509]\n",
            "log2(x)  = [0.         1.         2.         3.32192809]\n",
            "log10(x) = [0.         0.30103    0.60205999 1.        ]\n"
          ]
        }
      ]
    },
    {
      "cell_type": "markdown",
      "source": [
        "The following table provides a list of useful aggregation functions available\n",
        "in NumPy:\n",
        "\n",
        "Function name\tNaN-safe version\tDescription\n",
        "\n",
        "np.sum\tnp.nansum\tCompute sum of elements\n",
        "\n",
        "np.prod\tnp.nanprod\tCompute product of elements\n",
        "\n",
        "np.mean\tnp.nanmean\tCompute mean of elements\n",
        "\n",
        "np.std\tnp.nanstd\tCompute standard deviation\n",
        "\n",
        "np.var\tnp.nanvar\tCompute variance\n",
        "\n",
        "np.min\tnp.nanmin\tFind minimum value\n",
        "\n",
        "np.max\tnp.nanmax\tFind maximum value\n",
        "\n",
        "np.argmin\tnp.nanargmin\tFind index of minimum value\n",
        "\n",
        "np.argmax\tnp.nanargmax\tFind index of maximum value\n",
        "\n",
        "np.median\tnp.nanmedian\tCompute median of elements\n",
        "\n",
        "np.percentile\tnp.nanpercentile\tCompute rank-based statistics of elements\n",
        "\n",
        "np.any\tN/A\tEvaluate whether any elements are true\n",
        "\n",
        "np.all\tN/A\tEvaluate whether all elements are true\n",
        "\n",
        "\n"
      ],
      "metadata": {
        "id": "fuSkigBjc6vz"
      }
    },
    {
      "cell_type": "markdown",
      "source": [
        "# ***Fancy Indexing***"
      ],
      "metadata": {
        "id": "Zct0348nlERL"
      }
    },
    {
      "cell_type": "code",
      "source": [
        "x=np.arange(15)\n",
        "ind = [3, 7, 4]\n",
        "x[ind]"
      ],
      "metadata": {
        "colab": {
          "base_uri": "https://localhost:8080/"
        },
        "id": "_nKAe5fXdV9-",
        "outputId": "dbc4d615-eea7-4eae-d305-93e159929433"
      },
      "execution_count": null,
      "outputs": [
        {
          "output_type": "execute_result",
          "data": {
            "text/plain": [
              "array([3, 7, 4])"
            ]
          },
          "metadata": {},
          "execution_count": 45
        }
      ]
    },
    {
      "cell_type": "code",
      "source": [
        "[x[3], x[7], x[2]]"
      ],
      "metadata": {
        "colab": {
          "base_uri": "https://localhost:8080/"
        },
        "id": "fLhqG4kcc6Z4",
        "outputId": "dee204ed-72ce-4c28-af9f-207a01cc6a70"
      },
      "execution_count": null,
      "outputs": [
        {
          "output_type": "execute_result",
          "data": {
            "text/plain": [
              "[3, 7, 2]"
            ]
          },
          "metadata": {},
          "execution_count": 46
        }
      ]
    },
    {
      "cell_type": "code",
      "source": [
        "X = np.arange(12).reshape((3, 4))\n",
        "print(X)\n",
        "row = np.array([0, 1, 2])\n",
        "col = np.array([2, 1, 3])\n",
        "X[row, col]"
      ],
      "metadata": {
        "colab": {
          "base_uri": "https://localhost:8080/"
        },
        "id": "K0-EQk2wlbC8",
        "outputId": "fdc69a89-cf96-4db0-c362-286d2321976f"
      },
      "execution_count": null,
      "outputs": [
        {
          "output_type": "stream",
          "name": "stdout",
          "text": [
            "[[ 0  1  2  3]\n",
            " [ 4  5  6  7]\n",
            " [ 8  9 10 11]]\n"
          ]
        },
        {
          "output_type": "execute_result",
          "data": {
            "text/plain": [
              "array([ 2,  5, 11])"
            ]
          },
          "metadata": {},
          "execution_count": 49
        }
      ]
    },
    {
      "cell_type": "markdown",
      "source": [
        "# ***Broadcasting***"
      ],
      "metadata": {
        "id": "4KdbyCQdmP79"
      }
    },
    {
      "cell_type": "code",
      "source": [
        "import numpy as np\n",
        "\n",
        "arr = np.array([1, 2, 3])\n",
        "result = arr + 10  # Scalar expands to [10, 10, 10]\n",
        "\n",
        "print(result)\n"
      ],
      "metadata": {
        "colab": {
          "base_uri": "https://localhost:8080/"
        },
        "id": "axQxAJRfmTNW",
        "outputId": "1fed2bd7-352c-427d-90cd-365c2181a76d"
      },
      "execution_count": null,
      "outputs": [
        {
          "output_type": "stream",
          "name": "stdout",
          "text": [
            "[11 12 13]\n"
          ]
        }
      ]
    },
    {
      "cell_type": "code",
      "source": [
        "A = np.array([[1, 2, 3], [4, 5, 6]])  # Shape (2,3)\n",
        "B = np.array([10, 20, 30])            # Shape (1,3) or (3,)\n",
        "\n",
        "result = A + B  # B is broadcasted to match A\n",
        "print(result)"
      ],
      "metadata": {
        "colab": {
          "base_uri": "https://localhost:8080/"
        },
        "id": "dq22NnJCnE1c",
        "outputId": "7888d90f-0130-4f61-d07c-c472210c227e"
      },
      "execution_count": null,
      "outputs": [
        {
          "output_type": "stream",
          "name": "stdout",
          "text": [
            "[[11 22 33]\n",
            " [14 25 36]]\n"
          ]
        }
      ]
    },
    {
      "cell_type": "code",
      "source": [
        "row_vector = np.array([1, 2, 3])  # Shape (1,3)\n",
        "col_vector = np.array([[10], [20], [30]])  # Shape (3,1)\n",
        "\n",
        "result = row_vector + col_vector  # Broadcasts row_vector to (3,3)\n",
        "print(result)\n"
      ],
      "metadata": {
        "colab": {
          "base_uri": "https://localhost:8080/"
        },
        "id": "Iq34rG_znZmN",
        "outputId": "491699e8-dcde-4399-b753-bc63d4d72070"
      },
      "execution_count": null,
      "outputs": [
        {
          "output_type": "stream",
          "name": "stdout",
          "text": [
            "[[11 12 13]\n",
            " [21 22 23]\n",
            " [31 32 33]]\n"
          ]
        }
      ]
    },
    {
      "cell_type": "markdown",
      "source": [
        "\\[\n",
        "\\begin{array}{|c|c|c|c|}\n",
        "\\hline\n",
        "\\textbf{Operation} & \\textbf{Array 1 Shape} & \\textbf{Array 2 Shape} & \\textbf{Resulting Shape} \\\\\n",
        "\\hline\n",
        "\\text{arr + 10} & (3,) & () \\text{ (scalar)} & (3,) \\\\\n",
        "\\hline\n",
        "A (2,3) + B (1,3) & (2,3) & (1,3) & (2,3) \\\\\n",
        "\\hline\n",
        "\\text{row\\_vector (1,3) + col\\_vector (3,1)} & (1,3) & (3,1) & (3,3) \\\\\n",
        "\\hline\n",
        "\\end{array}\n",
        "\\]\n"
      ],
      "metadata": {
        "id": "-mJPiqSPn9vW"
      }
    },
    {
      "cell_type": "code",
      "source": [],
      "metadata": {
        "id": "_X9T-wH_rYPb"
      },
      "execution_count": null,
      "outputs": []
    },
    {
      "cell_type": "code",
      "source": [
        "A = np.array([[1, 2, 3], [4, 5, 6]])  # Shape (2,3)\n",
        "B = np.array([10, 20])  # Shape (2,)\n",
        "\n",
        "result = A + B  # ERROR: Shapes are incompatible\n"
      ],
      "metadata": {
        "colab": {
          "base_uri": "https://localhost:8080/",
          "height": 182
        },
        "id": "9FwmVUymoCEH",
        "outputId": "bd46dbae-142c-4016-f452-c779b997652d"
      },
      "execution_count": null,
      "outputs": [
        {
          "output_type": "error",
          "ename": "ValueError",
          "evalue": "operands could not be broadcast together with shapes (2,3) (2,) ",
          "traceback": [
            "\u001b[0;31m---------------------------------------------------------------------------\u001b[0m",
            "\u001b[0;31mValueError\u001b[0m                                Traceback (most recent call last)",
            "\u001b[0;32m<ipython-input-55-a799c50f47b0>\u001b[0m in \u001b[0;36m<cell line: 0>\u001b[0;34m()\u001b[0m\n\u001b[1;32m      2\u001b[0m \u001b[0mB\u001b[0m \u001b[0;34m=\u001b[0m \u001b[0mnp\u001b[0m\u001b[0;34m.\u001b[0m\u001b[0marray\u001b[0m\u001b[0;34m(\u001b[0m\u001b[0;34m[\u001b[0m\u001b[0;36m10\u001b[0m\u001b[0;34m,\u001b[0m \u001b[0;36m20\u001b[0m\u001b[0;34m]\u001b[0m\u001b[0;34m)\u001b[0m  \u001b[0;31m# Shape (2,)\u001b[0m\u001b[0;34m\u001b[0m\u001b[0;34m\u001b[0m\u001b[0m\n\u001b[1;32m      3\u001b[0m \u001b[0;34m\u001b[0m\u001b[0m\n\u001b[0;32m----> 4\u001b[0;31m \u001b[0mresult\u001b[0m \u001b[0;34m=\u001b[0m \u001b[0mA\u001b[0m \u001b[0;34m+\u001b[0m \u001b[0mB\u001b[0m  \u001b[0;31m# ERROR: Shapes are incompatible\u001b[0m\u001b[0;34m\u001b[0m\u001b[0;34m\u001b[0m\u001b[0m\n\u001b[0m",
            "\u001b[0;31mValueError\u001b[0m: operands could not be broadcast together with shapes (2,3) (2,) "
          ]
        }
      ]
    },
    {
      "cell_type": "markdown",
      "source": [
        "# **Sorting**"
      ],
      "metadata": {
        "id": "AC0Ol8KSoscS"
      }
    },
    {
      "cell_type": "code",
      "source": [
        "import numpy as np\n",
        "arr = np.array([3, 1, 2])\n",
        "sorted_arr = np.sort(arr)\n",
        "print(sorted_arr)  # Output: [1, 2, 3]\n"
      ],
      "metadata": {
        "colab": {
          "base_uri": "https://localhost:8080/"
        },
        "id": "oeYvrK81oJF6",
        "outputId": "03d33fb9-a772-4179-9f29-e888a457e7ff"
      },
      "execution_count": null,
      "outputs": [
        {
          "output_type": "stream",
          "name": "stdout",
          "text": [
            "[1 2 3]\n"
          ]
        }
      ]
    },
    {
      "cell_type": "code",
      "source": [
        "indices = np.argsort(arr)\n",
        "print(indices)  # Output: [1, 2, 0]\n"
      ],
      "metadata": {
        "colab": {
          "base_uri": "https://localhost:8080/"
        },
        "id": "W5eiFiXIoTo_",
        "outputId": "62e3193c-9665-4c73-935c-4d044478e287"
      },
      "execution_count": null,
      "outputs": [
        {
          "output_type": "stream",
          "name": "stdout",
          "text": [
            "[1 2 0]\n"
          ]
        }
      ]
    },
    {
      "cell_type": "markdown",
      "source": [
        "Partial Sorting"
      ],
      "metadata": {
        "id": "gMriwUiQooD1"
      }
    },
    {
      "cell_type": "code",
      "source": [
        "k = 2\n",
        "smallest_k = np.sort(arr)[:k]  # First 2 smallest elements\n",
        "largest_k = np.sort(arr)[-k:]  # Last 2 largest elements\n",
        "print(smallest_k)  # Output: [1, 2]\n",
        "print(largest_k)   # Output: [2, 3]\n"
      ],
      "metadata": {
        "colab": {
          "base_uri": "https://localhost:8080/"
        },
        "id": "B-d7Ac04omSB",
        "outputId": "4dbcac18-053a-4cde-a63a-e88ef991f92b"
      },
      "execution_count": null,
      "outputs": [
        {
          "output_type": "stream",
          "name": "stdout",
          "text": [
            "[1 2]\n",
            "[2 3]\n"
          ]
        }
      ]
    },
    {
      "cell_type": "markdown",
      "source": [
        "# **Structured Arrays**"
      ],
      "metadata": {
        "id": "Zm1NfhwtpB-k"
      }
    },
    {
      "cell_type": "code",
      "source": [
        "data = np.array([(1, 'Alice', 85.5), (2, 'Bob', 92.0)],\n",
        "                dtype=[('ID', 'i4'), ('Name', 'U10'), ('Score', 'f4')])\n",
        "print(data['Name'])  # Access a specific field: ['Alice' 'Bob']\n"
      ],
      "metadata": {
        "colab": {
          "base_uri": "https://localhost:8080/"
        },
        "id": "Yw_j9h9jpFOD",
        "outputId": "af1cc198-4ef9-45c0-a8d7-afb366ea9c6e"
      },
      "execution_count": null,
      "outputs": [
        {
          "output_type": "stream",
          "name": "stdout",
          "text": [
            "['Alice' 'Bob']\n"
          ]
        }
      ]
    },
    {
      "cell_type": "code",
      "source": [
        "import numpy as np\n",
        "\n",
        "# Define a structured data type\n",
        "data_type = [('ID', 'i4'), ('Name', 'U10'), ('Score', 'f4')]\n",
        "\n",
        "# Create a structured array\n",
        "students = np.array([(1, 'Alice', 85.5), (2, 'Bob', 92.0), (3, 'Charlie', 78.0)], dtype=data_type)\n",
        "\n",
        "# Access data by field\n",
        "print(students['Name'])   # Output: ['Alice' 'Bob' 'Charlie']\n",
        "print(students['Score'])\n",
        "print(students) # Output: [85.5 92.  78. ]\n"
      ],
      "metadata": {
        "colab": {
          "base_uri": "https://localhost:8080/"
        },
        "id": "GG2S3-p3pd5r",
        "outputId": "6c4d09d4-40f4-4064-d560-76bb7e2f4778"
      },
      "execution_count": null,
      "outputs": [
        {
          "output_type": "stream",
          "name": "stdout",
          "text": [
            "['Alice' 'Bob' 'Charlie']\n",
            "[85.5 92.  78. ]\n",
            "[(1, 'Alice', 85.5) (2, 'Bob', 92. ) (3, 'Charlie', 78. )]\n"
          ]
        }
      ]
    },
    {
      "cell_type": "code",
      "source": [
        "# Convert a structured array to a record array\n",
        "record_students = students.view(np.recarray)\n",
        "\n",
        "# Access using attribute-style\n",
        "print(record_students.Name)  # Output: ['Alice' 'Bob' 'Charlie']\n",
        "print(record_students.Score) # Output: [85.5 92.  78. ]\n"
      ],
      "metadata": {
        "colab": {
          "base_uri": "https://localhost:8080/"
        },
        "id": "se9kr_sqpos6",
        "outputId": "791fe64d-81a1-41a8-9b95-16749ee24ce2"
      },
      "execution_count": null,
      "outputs": [
        {
          "output_type": "stream",
          "name": "stdout",
          "text": [
            "['Alice' 'Bob' 'Charlie']\n",
            "[85.5 92.  78. ]\n"
          ]
        }
      ]
    },
    {
      "cell_type": "markdown",
      "source": [
        "**Key Differences**\n",
        "*   Structured Arrays: Access fields using keys like array\n",
        "['field_name'].\n",
        "*   Record Arrays: Allow access using both keys and attributes like recarray.field_name.\n",
        "\n",
        "**Use Cases**\n",
        "\n",
        "*Compound Types* : Useful for representing tabular data with\n",
        "heterogenous types.\n",
        "\n",
        "*Record Array*s: Convenient for quick access in research or testing when attribute-style access feels natural."
      ],
      "metadata": {
        "id": "ANT-0IdUpxqI"
      }
    }
  ]
}
